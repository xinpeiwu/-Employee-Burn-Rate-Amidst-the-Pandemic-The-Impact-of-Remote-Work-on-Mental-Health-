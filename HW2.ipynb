{
  "cells": [
    {
      "cell_type": "markdown",
      "metadata": {
        "id": "3wSi-KSCIpEM"
      },
      "source": [
        "### Import Package"
      ],
      "id": "3wSi-KSCIpEM"
    },
    {
      "cell_type": "code",
      "execution_count": 1,
      "metadata": {
        "colab": {
          "base_uri": "https://localhost:8080/",
          "height": 36
        },
        "id": "5Cz5-77fIpEN",
        "outputId": "3ebd36d7-7ac8-418a-b0ad-cc206e1b61ee"
      },
      "outputs": [
        {
          "output_type": "execute_result",
          "data": {
            "text/plain": [
              "'/content'"
            ],
            "application/vnd.google.colaboratory.intrinsic+json": {
              "type": "string"
            }
          },
          "metadata": {},
          "execution_count": 1
        }
      ],
      "source": [
        "import numpy as np\n",
        "import pandas as pd\n",
        "import os\n",
        "from sklearn.model_selection import train_test_split\n",
        "# Category Encoder (categorical variable)\n",
        "from sklearn.preprocessing import LabelEncoder\n",
        "# Min max normalization (numerical variable)\n",
        "from sklearn.preprocessing import MinMaxScaler\n",
        "# Model (can also view the scikit learn to choose the model)\n",
        "from sklearn.linear_model import LinearRegression\n",
        "os.getcwd()"
      ],
      "id": "5Cz5-77fIpEN"
    },
    {
      "cell_type": "markdown",
      "metadata": {
        "id": "16QNBD14IpEO"
      },
      "source": [
        "### Read data"
      ],
      "id": "16QNBD14IpEO"
    },
    {
      "cell_type": "code",
      "execution_count": 3,
      "metadata": {
        "colab": {
          "base_uri": "https://localhost:8080/",
          "height": 224
        },
        "id": "jVqvLLiVIpEO",
        "outputId": "4b593aa1-5d3a-4d0f-b92b-bec36c0e6d16"
      },
      "outputs": [
        {
          "output_type": "stream",
          "name": "stdout",
          "text": [
            "viwe the data shape (10108, 9)\n"
          ]
        },
        {
          "output_type": "execute_result",
          "data": {
            "text/plain": [
              "   Employee ID Date of Joining  Gender Company Type WFH Setup Available  \\\n",
              "0            0       2008/9/30  Female      Service                  No   \n",
              "1            1      2008/11/30    Male      Service                 Yes   \n",
              "2            2       2008/3/10  Female      Product                 Yes   \n",
              "3            3       2008/11/3    Male      Service                 Yes   \n",
              "4            4       2008/7/24  Female      Service                  No   \n",
              "\n",
              "   Designation  Resource Allocation  Mental Fatigue Score  Burn Rate  \n",
              "0            2                  3.0                   3.8       0.16  \n",
              "1            1                  2.0                   5.0       0.36  \n",
              "2            2                  NaN                   5.8       0.49  \n",
              "3            1                  1.0                   2.6       0.20  \n",
              "4            3                  7.0                   6.9       0.52  "
            ],
            "text/html": [
              "\n",
              "  <div id=\"df-ea3248a7-7e0e-4e6a-8ada-507154d8ab1e\">\n",
              "    <div class=\"colab-df-container\">\n",
              "      <div>\n",
              "<style scoped>\n",
              "    .dataframe tbody tr th:only-of-type {\n",
              "        vertical-align: middle;\n",
              "    }\n",
              "\n",
              "    .dataframe tbody tr th {\n",
              "        vertical-align: top;\n",
              "    }\n",
              "\n",
              "    .dataframe thead th {\n",
              "        text-align: right;\n",
              "    }\n",
              "</style>\n",
              "<table border=\"1\" class=\"dataframe\">\n",
              "  <thead>\n",
              "    <tr style=\"text-align: right;\">\n",
              "      <th></th>\n",
              "      <th>Employee ID</th>\n",
              "      <th>Date of Joining</th>\n",
              "      <th>Gender</th>\n",
              "      <th>Company Type</th>\n",
              "      <th>WFH Setup Available</th>\n",
              "      <th>Designation</th>\n",
              "      <th>Resource Allocation</th>\n",
              "      <th>Mental Fatigue Score</th>\n",
              "      <th>Burn Rate</th>\n",
              "    </tr>\n",
              "  </thead>\n",
              "  <tbody>\n",
              "    <tr>\n",
              "      <th>0</th>\n",
              "      <td>0</td>\n",
              "      <td>2008/9/30</td>\n",
              "      <td>Female</td>\n",
              "      <td>Service</td>\n",
              "      <td>No</td>\n",
              "      <td>2</td>\n",
              "      <td>3.0</td>\n",
              "      <td>3.8</td>\n",
              "      <td>0.16</td>\n",
              "    </tr>\n",
              "    <tr>\n",
              "      <th>1</th>\n",
              "      <td>1</td>\n",
              "      <td>2008/11/30</td>\n",
              "      <td>Male</td>\n",
              "      <td>Service</td>\n",
              "      <td>Yes</td>\n",
              "      <td>1</td>\n",
              "      <td>2.0</td>\n",
              "      <td>5.0</td>\n",
              "      <td>0.36</td>\n",
              "    </tr>\n",
              "    <tr>\n",
              "      <th>2</th>\n",
              "      <td>2</td>\n",
              "      <td>2008/3/10</td>\n",
              "      <td>Female</td>\n",
              "      <td>Product</td>\n",
              "      <td>Yes</td>\n",
              "      <td>2</td>\n",
              "      <td>NaN</td>\n",
              "      <td>5.8</td>\n",
              "      <td>0.49</td>\n",
              "    </tr>\n",
              "    <tr>\n",
              "      <th>3</th>\n",
              "      <td>3</td>\n",
              "      <td>2008/11/3</td>\n",
              "      <td>Male</td>\n",
              "      <td>Service</td>\n",
              "      <td>Yes</td>\n",
              "      <td>1</td>\n",
              "      <td>1.0</td>\n",
              "      <td>2.6</td>\n",
              "      <td>0.20</td>\n",
              "    </tr>\n",
              "    <tr>\n",
              "      <th>4</th>\n",
              "      <td>4</td>\n",
              "      <td>2008/7/24</td>\n",
              "      <td>Female</td>\n",
              "      <td>Service</td>\n",
              "      <td>No</td>\n",
              "      <td>3</td>\n",
              "      <td>7.0</td>\n",
              "      <td>6.9</td>\n",
              "      <td>0.52</td>\n",
              "    </tr>\n",
              "  </tbody>\n",
              "</table>\n",
              "</div>\n",
              "      <button class=\"colab-df-convert\" onclick=\"convertToInteractive('df-ea3248a7-7e0e-4e6a-8ada-507154d8ab1e')\"\n",
              "              title=\"Convert this dataframe to an interactive table.\"\n",
              "              style=\"display:none;\">\n",
              "        \n",
              "  <svg xmlns=\"http://www.w3.org/2000/svg\" height=\"24px\"viewBox=\"0 0 24 24\"\n",
              "       width=\"24px\">\n",
              "    <path d=\"M0 0h24v24H0V0z\" fill=\"none\"/>\n",
              "    <path d=\"M18.56 5.44l.94 2.06.94-2.06 2.06-.94-2.06-.94-.94-2.06-.94 2.06-2.06.94zm-11 1L8.5 8.5l.94-2.06 2.06-.94-2.06-.94L8.5 2.5l-.94 2.06-2.06.94zm10 10l.94 2.06.94-2.06 2.06-.94-2.06-.94-.94-2.06-.94 2.06-2.06.94z\"/><path d=\"M17.41 7.96l-1.37-1.37c-.4-.4-.92-.59-1.43-.59-.52 0-1.04.2-1.43.59L10.3 9.45l-7.72 7.72c-.78.78-.78 2.05 0 2.83L4 21.41c.39.39.9.59 1.41.59.51 0 1.02-.2 1.41-.59l7.78-7.78 2.81-2.81c.8-.78.8-2.07 0-2.86zM5.41 20L4 18.59l7.72-7.72 1.47 1.35L5.41 20z\"/>\n",
              "  </svg>\n",
              "      </button>\n",
              "      \n",
              "  <style>\n",
              "    .colab-df-container {\n",
              "      display:flex;\n",
              "      flex-wrap:wrap;\n",
              "      gap: 12px;\n",
              "    }\n",
              "\n",
              "    .colab-df-convert {\n",
              "      background-color: #E8F0FE;\n",
              "      border: none;\n",
              "      border-radius: 50%;\n",
              "      cursor: pointer;\n",
              "      display: none;\n",
              "      fill: #1967D2;\n",
              "      height: 32px;\n",
              "      padding: 0 0 0 0;\n",
              "      width: 32px;\n",
              "    }\n",
              "\n",
              "    .colab-df-convert:hover {\n",
              "      background-color: #E2EBFA;\n",
              "      box-shadow: 0px 1px 2px rgba(60, 64, 67, 0.3), 0px 1px 3px 1px rgba(60, 64, 67, 0.15);\n",
              "      fill: #174EA6;\n",
              "    }\n",
              "\n",
              "    [theme=dark] .colab-df-convert {\n",
              "      background-color: #3B4455;\n",
              "      fill: #D2E3FC;\n",
              "    }\n",
              "\n",
              "    [theme=dark] .colab-df-convert:hover {\n",
              "      background-color: #434B5C;\n",
              "      box-shadow: 0px 1px 3px 1px rgba(0, 0, 0, 0.15);\n",
              "      filter: drop-shadow(0px 1px 2px rgba(0, 0, 0, 0.3));\n",
              "      fill: #FFFFFF;\n",
              "    }\n",
              "  </style>\n",
              "\n",
              "      <script>\n",
              "        const buttonEl =\n",
              "          document.querySelector('#df-ea3248a7-7e0e-4e6a-8ada-507154d8ab1e button.colab-df-convert');\n",
              "        buttonEl.style.display =\n",
              "          google.colab.kernel.accessAllowed ? 'block' : 'none';\n",
              "\n",
              "        async function convertToInteractive(key) {\n",
              "          const element = document.querySelector('#df-ea3248a7-7e0e-4e6a-8ada-507154d8ab1e');\n",
              "          const dataTable =\n",
              "            await google.colab.kernel.invokeFunction('convertToInteractive',\n",
              "                                                     [key], {});\n",
              "          if (!dataTable) return;\n",
              "\n",
              "          const docLinkHtml = 'Like what you see? Visit the ' +\n",
              "            '<a target=\"_blank\" href=https://colab.research.google.com/notebooks/data_table.ipynb>data table notebook</a>'\n",
              "            + ' to learn more about interactive tables.';\n",
              "          element.innerHTML = '';\n",
              "          dataTable['output_type'] = 'display_data';\n",
              "          await google.colab.output.renderOutput(dataTable, element);\n",
              "          const docLink = document.createElement('div');\n",
              "          docLink.innerHTML = docLinkHtml;\n",
              "          element.appendChild(docLink);\n",
              "        }\n",
              "      </script>\n",
              "    </div>\n",
              "  </div>\n",
              "  "
            ]
          },
          "metadata": {},
          "execution_count": 3
        }
      ],
      "source": [
        "df = pd.read_csv(r'./train.csv')\n",
        "print('viwe the data shape', df.shape)\n",
        "df.head()"
      ],
      "id": "jVqvLLiVIpEO"
    },
    {
      "cell_type": "markdown",
      "source": [
        "### Data Preprocessing"
      ],
      "metadata": {
        "id": "vaA_AJqSPfo0"
      },
      "id": "vaA_AJqSPfo0"
    },
    {
      "cell_type": "markdown",
      "metadata": {
        "id": "RNLQse4lIpEO"
      },
      "source": [
        "### Check Missing Value"
      ],
      "id": "RNLQse4lIpEO"
    },
    {
      "cell_type": "code",
      "execution_count": 4,
      "metadata": {
        "colab": {
          "base_uri": "https://localhost:8080/"
        },
        "id": "Xjt9kVQpIpEP",
        "outputId": "575da9d3-5983-4959-862e-dac170fd99be"
      },
      "outputs": [
        {
          "output_type": "execute_result",
          "data": {
            "text/plain": [
              "Employee ID               0\n",
              "Date of Joining           0\n",
              "Gender                    0\n",
              "Company Type              0\n",
              "WFH Setup Available       0\n",
              "Designation               0\n",
              "Resource Allocation     630\n",
              "Mental Fatigue Score    966\n",
              "Burn Rate               484\n",
              "dtype: int64"
            ]
          },
          "metadata": {},
          "execution_count": 4
        }
      ],
      "source": [
        "df.isna().sum()"
      ],
      "id": "Xjt9kVQpIpEP"
    },
    {
      "cell_type": "code",
      "execution_count": 5,
      "metadata": {
        "id": "4giNMkQGIpEP"
      },
      "outputs": [],
      "source": [
        "X = df[df.columns[0:-1]]\n",
        "y = df[df.columns[-1]]"
      ],
      "id": "4giNMkQGIpEP"
    },
    {
      "cell_type": "markdown",
      "metadata": {
        "id": "WyJKb2JdIpEQ"
      },
      "source": [
        "### Training (model construction)"
      ],
      "id": "WyJKb2JdIpEQ"
    },
    {
      "cell_type": "code",
      "source": [
        "model = LinearRegression().fit(X, y)"
      ],
      "metadata": {
        "id": "jS_a1AGKPK0M"
      },
      "id": "jS_a1AGKPK0M",
      "execution_count": null,
      "outputs": []
    },
    {
      "cell_type": "markdown",
      "metadata": {
        "id": "GQtkLdwIIpEQ"
      },
      "source": [
        "### Cross validation\n",
        "- usually we will do cross validation to evaluate the generalization of model\n",
        "- or you can just use ```sklearn.model_selection.train_test_split``` to evaluate your model"
      ],
      "id": "GQtkLdwIIpEQ"
    },
    {
      "cell_type": "code",
      "execution_count": null,
      "metadata": {
        "colab": {
          "base_uri": "https://localhost:8080/"
        },
        "id": "6FrlV4m5IpEQ",
        "outputId": "d7141844-631d-4060-9f8c-f4de6c22c348"
      },
      "outputs": [
        {
          "output_type": "stream",
          "name": "stdout",
          "text": [
            "R2: 0.83 (std: 0.02)\n",
            "[0.84101704 0.82913251 0.84141366 0.83812453 0.79414405]\n",
            "====================================\n",
            "R2: 0.8287663586956278 (std: 0.01786866962952851)\n",
            "MSE: 0.00641462258484495 (std: 0.0004427563128774863)\n",
            "MAPE: 3210108993871.702 (std: 723133259421.2721)\n"
          ]
        }
      ],
      "source": [
        "from sklearn.model_selection import cross_val_score, cross_validate\n",
        "# directly use cross_val_score\n",
        "scores = cross_val_score(model, X, y, cv=5)\n",
        "print(\"R2: %0.2f (std: %0.2f)\" % (scores.mean(), scores.std()))\n",
        "print(scores)\n",
        "# need other scoring\n",
        "scores = cross_validate(model, X, y, cv=5,\n",
        "                       scoring=('r2', 'neg_mean_squared_error', 'neg_mean_absolute_percentage_error'))\n",
        "print(\"====================================\")\n",
        "print(\"R2: {} (std: {})\".format(scores['test_r2'].mean(), scores['test_r2'].std()))\n",
        "print(\"MSE: {} (std: {})\".format(-scores['test_neg_mean_squared_error'].mean(), scores['test_neg_mean_squared_error'].std()))\n",
        "print(\"MAPE: {} (std: {})\".format(-scores['test_neg_mean_absolute_percentage_error'].mean(), scores['test_neg_mean_absolute_percentage_error'].std()))"
      ],
      "id": "6FrlV4m5IpEQ"
    },
    {
      "cell_type": "markdown",
      "metadata": {
        "id": "myOBllB_IpEQ"
      },
      "source": [
        "### Prediction\n",
        "1. read data\n",
        "2. model prediction\n",
        "3. to_csv"
      ],
      "id": "myOBllB_IpEQ"
    },
    {
      "cell_type": "code",
      "execution_count": null,
      "metadata": {
        "colab": {
          "base_uri": "https://localhost:8080/",
          "height": 224
        },
        "id": "HyWyzS-oIpEQ",
        "outputId": "49a27bb4-62b1-4e10-d03b-379955382aaf"
      },
      "outputs": [
        {
          "output_type": "stream",
          "name": "stdout",
          "text": [
            "(1980, 8)\n"
          ]
        },
        {
          "output_type": "execute_result",
          "data": {
            "text/plain": [
              "   Employee ID Date of Joining  Gender Company Type WFH Setup Available  \\\n",
              "0            0      2008/11/12    Male      Service                 Yes   \n",
              "1            1       2008/3/11    Male      Product                  No   \n",
              "2            2        2008/4/3    Male      Service                  No   \n",
              "3            3       2008/10/1    Male      Product                  No   \n",
              "4            4        2008/1/5  Female      Service                  No   \n",
              "\n",
              "   Designation  Resource Allocation  Mental Fatigue Score  \n",
              "0            0                  1.0                   0.0  \n",
              "1            3                  8.0                   7.9  \n",
              "2            4                  9.0                   8.1  \n",
              "3            1                  3.0                   5.7  \n",
              "4            3                  5.0                   NaN  "
            ],
            "text/html": [
              "\n",
              "  <div id=\"df-97bb3e07-ac8f-4d80-a4b5-a52feb168516\">\n",
              "    <div class=\"colab-df-container\">\n",
              "      <div>\n",
              "<style scoped>\n",
              "    .dataframe tbody tr th:only-of-type {\n",
              "        vertical-align: middle;\n",
              "    }\n",
              "\n",
              "    .dataframe tbody tr th {\n",
              "        vertical-align: top;\n",
              "    }\n",
              "\n",
              "    .dataframe thead th {\n",
              "        text-align: right;\n",
              "    }\n",
              "</style>\n",
              "<table border=\"1\" class=\"dataframe\">\n",
              "  <thead>\n",
              "    <tr style=\"text-align: right;\">\n",
              "      <th></th>\n",
              "      <th>Employee ID</th>\n",
              "      <th>Date of Joining</th>\n",
              "      <th>Gender</th>\n",
              "      <th>Company Type</th>\n",
              "      <th>WFH Setup Available</th>\n",
              "      <th>Designation</th>\n",
              "      <th>Resource Allocation</th>\n",
              "      <th>Mental Fatigue Score</th>\n",
              "    </tr>\n",
              "  </thead>\n",
              "  <tbody>\n",
              "    <tr>\n",
              "      <th>0</th>\n",
              "      <td>0</td>\n",
              "      <td>2008/11/12</td>\n",
              "      <td>Male</td>\n",
              "      <td>Service</td>\n",
              "      <td>Yes</td>\n",
              "      <td>0</td>\n",
              "      <td>1.0</td>\n",
              "      <td>0.0</td>\n",
              "    </tr>\n",
              "    <tr>\n",
              "      <th>1</th>\n",
              "      <td>1</td>\n",
              "      <td>2008/3/11</td>\n",
              "      <td>Male</td>\n",
              "      <td>Product</td>\n",
              "      <td>No</td>\n",
              "      <td>3</td>\n",
              "      <td>8.0</td>\n",
              "      <td>7.9</td>\n",
              "    </tr>\n",
              "    <tr>\n",
              "      <th>2</th>\n",
              "      <td>2</td>\n",
              "      <td>2008/4/3</td>\n",
              "      <td>Male</td>\n",
              "      <td>Service</td>\n",
              "      <td>No</td>\n",
              "      <td>4</td>\n",
              "      <td>9.0</td>\n",
              "      <td>8.1</td>\n",
              "    </tr>\n",
              "    <tr>\n",
              "      <th>3</th>\n",
              "      <td>3</td>\n",
              "      <td>2008/10/1</td>\n",
              "      <td>Male</td>\n",
              "      <td>Product</td>\n",
              "      <td>No</td>\n",
              "      <td>1</td>\n",
              "      <td>3.0</td>\n",
              "      <td>5.7</td>\n",
              "    </tr>\n",
              "    <tr>\n",
              "      <th>4</th>\n",
              "      <td>4</td>\n",
              "      <td>2008/1/5</td>\n",
              "      <td>Female</td>\n",
              "      <td>Service</td>\n",
              "      <td>No</td>\n",
              "      <td>3</td>\n",
              "      <td>5.0</td>\n",
              "      <td>NaN</td>\n",
              "    </tr>\n",
              "  </tbody>\n",
              "</table>\n",
              "</div>\n",
              "      <button class=\"colab-df-convert\" onclick=\"convertToInteractive('df-97bb3e07-ac8f-4d80-a4b5-a52feb168516')\"\n",
              "              title=\"Convert this dataframe to an interactive table.\"\n",
              "              style=\"display:none;\">\n",
              "        \n",
              "  <svg xmlns=\"http://www.w3.org/2000/svg\" height=\"24px\"viewBox=\"0 0 24 24\"\n",
              "       width=\"24px\">\n",
              "    <path d=\"M0 0h24v24H0V0z\" fill=\"none\"/>\n",
              "    <path d=\"M18.56 5.44l.94 2.06.94-2.06 2.06-.94-2.06-.94-.94-2.06-.94 2.06-2.06.94zm-11 1L8.5 8.5l.94-2.06 2.06-.94-2.06-.94L8.5 2.5l-.94 2.06-2.06.94zm10 10l.94 2.06.94-2.06 2.06-.94-2.06-.94-.94-2.06-.94 2.06-2.06.94z\"/><path d=\"M17.41 7.96l-1.37-1.37c-.4-.4-.92-.59-1.43-.59-.52 0-1.04.2-1.43.59L10.3 9.45l-7.72 7.72c-.78.78-.78 2.05 0 2.83L4 21.41c.39.39.9.59 1.41.59.51 0 1.02-.2 1.41-.59l7.78-7.78 2.81-2.81c.8-.78.8-2.07 0-2.86zM5.41 20L4 18.59l7.72-7.72 1.47 1.35L5.41 20z\"/>\n",
              "  </svg>\n",
              "      </button>\n",
              "      \n",
              "  <style>\n",
              "    .colab-df-container {\n",
              "      display:flex;\n",
              "      flex-wrap:wrap;\n",
              "      gap: 12px;\n",
              "    }\n",
              "\n",
              "    .colab-df-convert {\n",
              "      background-color: #E8F0FE;\n",
              "      border: none;\n",
              "      border-radius: 50%;\n",
              "      cursor: pointer;\n",
              "      display: none;\n",
              "      fill: #1967D2;\n",
              "      height: 32px;\n",
              "      padding: 0 0 0 0;\n",
              "      width: 32px;\n",
              "    }\n",
              "\n",
              "    .colab-df-convert:hover {\n",
              "      background-color: #E2EBFA;\n",
              "      box-shadow: 0px 1px 2px rgba(60, 64, 67, 0.3), 0px 1px 3px 1px rgba(60, 64, 67, 0.15);\n",
              "      fill: #174EA6;\n",
              "    }\n",
              "\n",
              "    [theme=dark] .colab-df-convert {\n",
              "      background-color: #3B4455;\n",
              "      fill: #D2E3FC;\n",
              "    }\n",
              "\n",
              "    [theme=dark] .colab-df-convert:hover {\n",
              "      background-color: #434B5C;\n",
              "      box-shadow: 0px 1px 3px 1px rgba(0, 0, 0, 0.15);\n",
              "      filter: drop-shadow(0px 1px 2px rgba(0, 0, 0, 0.3));\n",
              "      fill: #FFFFFF;\n",
              "    }\n",
              "  </style>\n",
              "\n",
              "      <script>\n",
              "        const buttonEl =\n",
              "          document.querySelector('#df-97bb3e07-ac8f-4d80-a4b5-a52feb168516 button.colab-df-convert');\n",
              "        buttonEl.style.display =\n",
              "          google.colab.kernel.accessAllowed ? 'block' : 'none';\n",
              "\n",
              "        async function convertToInteractive(key) {\n",
              "          const element = document.querySelector('#df-97bb3e07-ac8f-4d80-a4b5-a52feb168516');\n",
              "          const dataTable =\n",
              "            await google.colab.kernel.invokeFunction('convertToInteractive',\n",
              "                                                     [key], {});\n",
              "          if (!dataTable) return;\n",
              "\n",
              "          const docLinkHtml = 'Like what you see? Visit the ' +\n",
              "            '<a target=\"_blank\" href=https://colab.research.google.com/notebooks/data_table.ipynb>data table notebook</a>'\n",
              "            + ' to learn more about interactive tables.';\n",
              "          element.innerHTML = '';\n",
              "          dataTable['output_type'] = 'display_data';\n",
              "          await google.colab.output.renderOutput(dataTable, element);\n",
              "          const docLink = document.createElement('div');\n",
              "          docLink.innerHTML = docLinkHtml;\n",
              "          element.appendChild(docLink);\n",
              "        }\n",
              "      </script>\n",
              "    </div>\n",
              "  </div>\n",
              "  "
            ]
          },
          "metadata": {},
          "execution_count": 22
        }
      ],
      "source": [
        "df_test = pd.read_csv(r'./test.csv')\n",
        "print(df_test.shape)\n",
        "df_test.head()"
      ],
      "id": "HyWyzS-oIpEQ"
    },
    {
      "cell_type": "markdown",
      "metadata": {
        "id": "kB2tPfmaIpER"
      },
      "source": [
        "### Same preprocessing step as training procedure\n",
        "- can write it like a function or pipeline"
      ],
      "id": "kB2tPfmaIpER"
    },
    {
      "cell_type": "code",
      "execution_count": null,
      "metadata": {
        "colab": {
          "base_uri": "https://localhost:8080/"
        },
        "outputId": "558f0bbd-022b-4a87-e375-2b24d3596067",
        "id": "gb3Fwn1_LRiz"
      },
      "outputs": [
        {
          "output_type": "execute_result",
          "data": {
            "text/plain": [
              "Employee ID               0\n",
              "Date of Joining           0\n",
              "Gender                    0\n",
              "Company Type              0\n",
              "WFH Setup Available       0\n",
              "Designation               0\n",
              "Resource Allocation     110\n",
              "Mental Fatigue Score    186\n",
              "dtype: int64"
            ]
          },
          "metadata": {},
          "execution_count": 24
        }
      ],
      "source": [
        "df_test.isna().sum()"
      ],
      "id": "gb3Fwn1_LRiz"
    },
    {
      "cell_type": "code",
      "execution_count": null,
      "metadata": {
        "id": "HJF5Z3zHIpER"
      },
      "outputs": [],
      "source": [
        "X_test = df_test[df_test.columns]\n",
        "y_pred = model.predict(X_test)"
      ],
      "id": "HJF5Z3zHIpER"
    },
    {
      "cell_type": "markdown",
      "metadata": {
        "id": "NrJx8svNIpER"
      },
      "source": [
        "### Output .csv for submission"
      ],
      "id": "NrJx8svNIpER"
    },
    {
      "cell_type": "code",
      "execution_count": null,
      "metadata": {
        "id": "sapxBlbhIpER"
      },
      "outputs": [],
      "source": [
        "df_ans = pd.DataFrame(y_pred.astype(float), columns=['Burn Rate'])\n",
        "df_ans.to_csv('mySubmission.csv', index_label='Employee ID')"
      ],
      "id": "sapxBlbhIpER"
    },
    {
      "cell_type": "markdown",
      "metadata": {
        "id": "zzbi3vvOIpER"
      },
      "source": [
        "### Some Tips\n",
        "1. try different scaling approach (numerical variable)\n",
        "2. encoding method\n",
        "3. different model\n",
        "4. feature engineering (some different transformation)\n",
        "5. do some data exploration to see other pattern\n",
        "6. hyperparameter\n",
        "\n",
        "### Other Complementary\n",
        "- pipeline: https://scikit-learn.org/stable/modules/compose.html#pipeline\n",
        "- also can try some basic deep learning model (ANN)"
      ],
      "id": "zzbi3vvOIpER"
    },
    {
      "cell_type": "code",
      "execution_count": null,
      "metadata": {
        "id": "xINoX0FFIpER"
      },
      "outputs": [],
      "source": [],
      "id": "xINoX0FFIpER"
    },
    {
      "cell_type": "code",
      "execution_count": null,
      "metadata": {
        "id": "mBDdLRTWIpER"
      },
      "outputs": [],
      "source": [],
      "id": "mBDdLRTWIpER"
    }
  ],
  "metadata": {
    "kernelspec": {
      "display_name": "Python 3",
      "language": "python",
      "name": "python3"
    },
    "language_info": {
      "codemirror_mode": {
        "name": "ipython",
        "version": 3
      },
      "file_extension": ".py",
      "mimetype": "text/x-python",
      "name": "python",
      "nbconvert_exporter": "python",
      "pygments_lexer": "ipython3",
      "version": "3.9.5"
    },
    "colab": {
      "provenance": [],
      "collapsed_sections": []
    }
  },
  "nbformat": 4,
  "nbformat_minor": 5
}